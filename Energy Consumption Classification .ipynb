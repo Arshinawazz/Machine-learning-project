{
 "cells": [
  {
   "cell_type": "markdown",
   "id": "0be8215c-2c74-40fa-9947-3f7a8a6374a6",
   "metadata": {},
   "source": [
    "# Step 1: Import libraries and load CSVs"
   ]
  },
  {
   "cell_type": "code",
   "execution_count": 1,
   "id": "b3a8d09c-86a1-4460-9e00-3f1be2dd222f",
   "metadata": {},
   "outputs": [
    {
     "data": {
      "text/html": [
       "<div>\n",
       "<style scoped>\n",
       "    .dataframe tbody tr th:only-of-type {\n",
       "        vertical-align: middle;\n",
       "    }\n",
       "\n",
       "    .dataframe tbody tr th {\n",
       "        vertical-align: top;\n",
       "    }\n",
       "\n",
       "    .dataframe thead th {\n",
       "        text-align: right;\n",
       "    }\n",
       "</style>\n",
       "<table border=\"1\" class=\"dataframe\">\n",
       "  <thead>\n",
       "    <tr style=\"text-align: right;\">\n",
       "      <th></th>\n",
       "      <th>File Name</th>\n",
       "      <th>Aggrement Value</th>\n",
       "      <th>Aggrement Start Date</th>\n",
       "      <th>Aggrement End Date</th>\n",
       "      <th>Renewal Notice (Days)</th>\n",
       "      <th>Party One</th>\n",
       "      <th>Party Two</th>\n",
       "    </tr>\n",
       "  </thead>\n",
       "  <tbody>\n",
       "    <tr>\n",
       "      <th>0</th>\n",
       "      <td>6683127-House-Rental-Contract-GERALDINE-GALINA...</td>\n",
       "      <td>6500</td>\n",
       "      <td>20.05.2007</td>\n",
       "      <td>20.05.2008</td>\n",
       "      <td>15.0</td>\n",
       "      <td>Antonio Levy S. Ingles, Jr. and/or Mary Rose C...</td>\n",
       "      <td>GERALDINE Q. GALINATO</td>\n",
       "    </tr>\n",
       "    <tr>\n",
       "      <th>1</th>\n",
       "      <td>6683129-House-Rental-Contract-Geraldine-Galina...</td>\n",
       "      <td>6500</td>\n",
       "      <td>20.05.2007</td>\n",
       "      <td>20.05.2008</td>\n",
       "      <td>15.0</td>\n",
       "      <td>Antonio Levy S. Ingles, Jr. and/or Mary Rose C...</td>\n",
       "      <td>GERALDINE Q. GALINATO</td>\n",
       "    </tr>\n",
       "    <tr>\n",
       "      <th>2</th>\n",
       "      <td>18325926-Rental-Agreement-1</td>\n",
       "      <td>4000</td>\n",
       "      <td>05.12.2008</td>\n",
       "      <td>31.11.2009</td>\n",
       "      <td>90.0</td>\n",
       "      <td>MR.K.Kuttan</td>\n",
       "      <td>P.M. Narayana Namboodri</td>\n",
       "    </tr>\n",
       "    <tr>\n",
       "      <th>3</th>\n",
       "      <td>24158401-Rental-Agreement</td>\n",
       "      <td>12000</td>\n",
       "      <td>01.04.2008</td>\n",
       "      <td>31.03.2009</td>\n",
       "      <td>60.0</td>\n",
       "      <td>Hanumaiah</td>\n",
       "      <td>Vishal Bhardwaj</td>\n",
       "    </tr>\n",
       "    <tr>\n",
       "      <th>4</th>\n",
       "      <td>36199312-Rental-Agreement</td>\n",
       "      <td>3800</td>\n",
       "      <td>01.05.2010</td>\n",
       "      <td>31.04.2011</td>\n",
       "      <td>30.0</td>\n",
       "      <td>Balaji.R</td>\n",
       "      <td>Kartheek R</td>\n",
       "    </tr>\n",
       "  </tbody>\n",
       "</table>\n",
       "</div>"
      ],
      "text/plain": [
       "                                           File Name  Aggrement Value  \\\n",
       "0  6683127-House-Rental-Contract-GERALDINE-GALINA...             6500   \n",
       "1  6683129-House-Rental-Contract-Geraldine-Galina...             6500   \n",
       "2                        18325926-Rental-Agreement-1             4000   \n",
       "3                          24158401-Rental-Agreement            12000   \n",
       "4                          36199312-Rental-Agreement             3800   \n",
       "\n",
       "  Aggrement Start Date Aggrement End Date  Renewal Notice (Days)  \\\n",
       "0           20.05.2007         20.05.2008                   15.0   \n",
       "1           20.05.2007         20.05.2008                   15.0   \n",
       "2           05.12.2008         31.11.2009                   90.0   \n",
       "3           01.04.2008         31.03.2009                   60.0   \n",
       "4           01.05.2010         31.04.2011                   30.0   \n",
       "\n",
       "                                           Party One                 Party Two  \n",
       "0  Antonio Levy S. Ingles, Jr. and/or Mary Rose C...     GERALDINE Q. GALINATO  \n",
       "1  Antonio Levy S. Ingles, Jr. and/or Mary Rose C...     GERALDINE Q. GALINATO  \n",
       "2                                       MR.K.Kuttan   P.M. Narayana Namboodri   \n",
       "3                                         Hanumaiah           Vishal Bhardwaj   \n",
       "4                                          Balaji.R                 Kartheek R  "
      ]
     },
     "execution_count": 1,
     "metadata": {},
     "output_type": "execute_result"
    }
   ],
   "source": [
    "import pandas as pd\n",
    "import os\n",
    "from docx import Document\n",
    "from PIL import Image\n",
    "import pytesseract\n",
    "\n",
    "# Load CSVs\n",
    "train_csv = pd.read_csv(\"/Users/arshinawaz/Desktop/ML project/ass 1 data/train.csv\")\n",
    "test_csv = pd.read_csv(\"/Users/arshinawaz/Desktop/ML project/ass 1 data/test.csv\")\n",
    "\n",
    "# Show first few rows\n",
    "train_csv.head()\n"
   ]
  },
  {
   "cell_type": "markdown",
   "id": "8b95e212-47c7-4433-a640-d1f2e62e01dd",
   "metadata": {},
   "source": [
    "# Step 2: Define functions to read documents\n"
   ]
  },
  {
   "cell_type": "code",
   "execution_count": null,
   "id": "451952d4-9411-4ec9-9f59-9917730a27a0",
   "metadata": {},
   "outputs": [],
   "source": []
  },
  {
   "cell_type": "markdown",
   "id": "1ce7ae96-04d2-4676-8c3d-ccb46cdb2f8d",
   "metadata": {},
   "source": [
    "# Read all files from the folder"
   ]
  },
  {
   "cell_type": "code",
   "execution_count": 6,
   "id": "21af554c-0620-4a59-9cd6-a00c96b2e646",
   "metadata": {},
   "outputs": [],
   "source": [
    "import os\n",
    "from docx import Document\n",
    "from PIL import Image\n",
    "import pytesseract\n",
    "\n",
    "# Define folder paths\n",
    "train_folder = \"/Users/arshinawaz/Desktop/ML project/ass 1 data/train\"\n",
    "test_folder = \"/Users/arshinawaz/Desktop/ML project/ass 1 data/test\"\n",
    "\n",
    "# Functions to read documents\n",
    "def read_docx(file_path):\n",
    "    doc = Document(file_path)\n",
    "    return \"\\n\".join([para.text for para in doc.paragraphs])\n",
    "\n",
    "def read_image(file_path):\n",
    "    img = Image.open(file_path)\n",
    "    return pytesseract.image_to_string(img)\n",
    "\n",
    "def read_all_files(folder_path):\n",
    "    texts = {}\n",
    "    for filename in os.listdir(folder_path):\n",
    "        file_path = os.path.join(folder_path, filename)\n",
    "        try:\n",
    "            if filename.endswith(\".docx\"):\n",
    "                texts[filename] = read_docx(file_path)\n",
    "            elif filename.endswith(\".png\") or filename.endswith(\".jpg\"):\n",
    "                texts[filename] = read_image(file_path)\n",
    "        except:\n",
    "            print(f\"Failed to read {filename}\")\n",
    "    return texts\n",
    "\n",
    "# Read train and test documents\n",
    "train_texts = read_all_files(train_folder)\n",
    "test_texts = read_all_files(test_folder)\n"
   ]
  },
  {
   "cell_type": "code",
   "execution_count": 17,
   "id": "4b20d326-fa5c-464f-9cd6-30b2ced64e51",
   "metadata": {},
   "outputs": [],
   "source": [
    "# Drop rows where text is NaN\n",
    "train_csv = train_csv.dropna(subset=['text'])\n",
    "\n",
    "# Features and labels for Agreement Value\n",
    "X = train_csv['text']\n",
    "y = train_csv['Aggrement Value']\n"
   ]
  },
  {
   "cell_type": "code",
   "execution_count": 18,
   "id": "46e8cc29-ba50-4e15-b2bb-6fe53457abce",
   "metadata": {},
   "outputs": [
    {
     "name": "stdout",
     "output_type": "stream",
     "text": [
      "                                           File Name  Aggrement Value  \\\n",
      "0  6683127-House-Rental-Contract-GERALDINE-GALINA...             6500   \n",
      "1  6683129-House-Rental-Contract-Geraldine-Galina...             6500   \n",
      "2                        18325926-Rental-Agreement-1             4000   \n",
      "3                          24158401-Rental-Agreement            12000   \n",
      "4                          36199312-Rental-Agreement             3800   \n",
      "\n",
      "  Aggrement Start Date Aggrement End Date  Renewal Notice (Days)  \\\n",
      "0           20.05.2007         20.05.2008                   15.0   \n",
      "1           20.05.2007         20.05.2008                   15.0   \n",
      "2           05.12.2008         31.11.2009                   90.0   \n",
      "3           01.04.2008         31.03.2009                   60.0   \n",
      "4           01.05.2010         31.04.2011                   30.0   \n",
      "\n",
      "                                           Party One  \\\n",
      "0  Antonio Levy S. Ingles, Jr. and/or Mary Rose C...   \n",
      "1  Antonio Levy S. Ingles, Jr. and/or Mary Rose C...   \n",
      "2                                       MR.K.Kuttan    \n",
      "3                                         Hanumaiah    \n",
      "4                                          Balaji.R    \n",
      "\n",
      "                  Party Two text  \n",
      "0     GERALDINE Q. GALINATO  NaN  \n",
      "1     GERALDINE Q. GALINATO  NaN  \n",
      "2  P.M. Narayana Namboodri   NaN  \n",
      "3          Vishal Bhardwaj   NaN  \n",
      "4                Kartheek R  NaN  \n"
     ]
    }
   ],
   "source": [
    "# Merge text with CSV labels”\n",
    "import pandas as pd\n",
    "\n",
    "# Load CSVs\n",
    "train_csv = pd.read_csv(\"/Users/arshinawaz/Desktop/ML project/ass 1 data/train.csv\")\n",
    "test_csv = pd.read_csv(\"/Users/arshinawaz/Desktop/ML project/ass 1 data/test.csv\")\n",
    "\n",
    "# Merge document texts into CSV using the filename\n",
    "train_csv['text'] = train_csv['File Name'].map(train_texts)\n",
    "test_csv['text'] = test_csv['File Name'].map(test_texts)\n",
    "\n",
    "# Check the first few rows\n",
    "print(train_csv.head())\n"
   ]
  },
  {
   "cell_type": "code",
   "execution_count": 19,
   "id": "2f5639ac-7b08-4a5c-8faf-0d161c9c609c",
   "metadata": {},
   "outputs": [],
   "source": [
    "import os\n",
    "\n",
    "# Fix dictionary keys\n",
    "train_texts_fixed = {os.path.splitext(k)[0].lower().strip(): v for k, v in train_texts.items()}\n",
    "test_texts_fixed = {os.path.splitext(k)[0].lower().strip(): v for k, v in test_texts.items()}\n",
    "\n",
    "# Map to CSV\n",
    "train_csv['text'] = train_csv['File Name'].str.lower().str.strip().map(train_texts_fixed)\n",
    "test_csv['text'] = test_csv['File Name'].str.lower().str.strip().map(test_texts_fixed)\n"
   ]
  },
  {
   "cell_type": "code",
   "execution_count": 20,
   "id": "8089ea2d-5e67-4a81-9b09-5c32794d7287",
   "metadata": {},
   "outputs": [
    {
     "name": "stdout",
     "output_type": "stream",
     "text": [
      "                                           File Name  \\\n",
      "0  6683127-House-Rental-Contract-GERALDINE-GALINA...   \n",
      "1  6683129-House-Rental-Contract-Geraldine-Galina...   \n",
      "2                        18325926-Rental-Agreement-1   \n",
      "3                          24158401-Rental-Agreement   \n",
      "4                          36199312-Rental-Agreement   \n",
      "\n",
      "                                                text  \n",
      "0  House Rental Contract\\nKNOWN ALL MEN BY THESE ...  \n",
      "1  \\n\\n\\n\\n\\nHouse Rental Contract\\nKNOWN ALL MEN...  \n",
      "2  \\n\\n\\n\\n\\n\\n\\n\\n\\n\\nRENTAL AGREEMENT\\nThis dee...  \n",
      "3                                                NaN  \n",
      "4  RENEWAL OF RENTAL AGREEMENT\\n\\nThis AGREEMENT ...  \n",
      "1\n"
     ]
    }
   ],
   "source": [
    "print(train_csv[['File Name', 'text']].head())\n",
    "print(train_csv['text'].isna().sum())  # Should be 0\n"
   ]
  },
  {
   "cell_type": "markdown",
   "id": "fa154ee3-2d70-4a09-8191-e083619e0bc1",
   "metadata": {},
   "source": [
    "# Train a Simple Model"
   ]
  },
  {
   "cell_type": "code",
   "execution_count": 12,
   "id": "a57118dc-2cb2-48b8-b3bb-da60ac5662a1",
   "metadata": {},
   "outputs": [],
   "source": [
    "# Step 1: Import ML libraries\n",
    "from sklearn.feature_extraction.text import TfidfVectorizer\n",
    "from sklearn.ensemble import RandomForestClassifier\n",
    "from sklearn.model_selection import train_test_split\n",
    "from sklearn.metrics import accuracy_score\n"
   ]
  },
  {
   "cell_type": "code",
   "execution_count": 14,
   "id": "94df47ad-e59e-4c8f-96fa-ff19ad19cb1e",
   "metadata": {},
   "outputs": [],
   "source": [
    "# Step 1: Features (X) and label (y) for Agreement Value\n",
    "X = train_csv['text']                   # Text of the documents\n",
    "y = train_csv['Aggrement Value']        # The metadata field you want to predict"
   ]
  },
  {
   "cell_type": "code",
   "execution_count": 24,
   "id": "499a596e-4ebf-42d0-90fc-0ee7f4c01f6e",
   "metadata": {},
   "outputs": [],
   "source": [
    "# prepare the data \n",
    "\n",
    "# Drop rows with missing text\n",
    "train_csv = train_csv.dropna(subset=['text'])\n",
    "\n",
    "\n",
    "# Features and labels for one example field: Agreement Value\n",
    "X = train_csv['text']\n",
    "y = train_csv['Aggrement Value']  # you can repeat for other fields later\n"
   ]
  },
  {
   "cell_type": "code",
   "execution_count": 23,
   "id": "d635e7e3-9080-4546-b0ad-e8832d3f936a",
   "metadata": {},
   "outputs": [],
   "source": [
    "# step 3 split the data \n",
    "X_train, X_val, y_train, y_val = train_test_split(X, y, test_size=0.2, random_state=42)\n"
   ]
  },
  {
   "cell_type": "code",
   "execution_count": 28,
   "id": "bf632e00-d373-4b0d-8f0b-79c20eee1a65",
   "metadata": {},
   "outputs": [],
   "source": [
    "from sklearn.feature_extraction.text import TfidfVectorizer\n",
    "\n",
    "vectorizer = TfidfVectorizer(max_features=5000)\n",
    "X_train_vec = vectorizer.fit_transform(X_train)\n",
    "X_val_vec = vectorizer.transform(X_val)\n"
   ]
  },
  {
   "cell_type": "code",
   "execution_count": 27,
   "id": "a9e38069-ab23-43d7-ba44-e2a0f0d52741",
   "metadata": {},
   "outputs": [
    {
     "name": "stdout",
     "output_type": "stream",
     "text": [
      "Validation Accuracy for Agreement Value: 0.5\n"
     ]
    }
   ],
   "source": [
    "from sklearn.ensemble import RandomForestClassifier\n",
    "from sklearn.metrics import accuracy_score\n",
    "\n",
    "model = RandomForestClassifier(n_estimators=100, random_state=42)\n",
    "model.fit(X_train_vec, y_train)\n",
    "\n",
    "y_pred = model.predict(X_val_vec)\n",
    "accuracy = accuracy_score(y_val, y_pred)\n",
    "print(\"Validation Accuracy for Agreement Value:\", accuracy)\n"
   ]
  },
  {
   "cell_type": "code",
   "execution_count": null,
   "id": "8d73feba-7c78-4c8e-9d18-ceab8e879233",
   "metadata": {},
   "outputs": [],
   "source": []
  }
 ],
 "metadata": {
  "kernelspec": {
   "display_name": "Python 3 (ipykernel)",
   "language": "python",
   "name": "python3"
  },
  "language_info": {
   "codemirror_mode": {
    "name": "ipython",
    "version": 3
   },
   "file_extension": ".py",
   "mimetype": "text/x-python",
   "name": "python",
   "nbconvert_exporter": "python",
   "pygments_lexer": "ipython3",
   "version": "3.9.6"
  }
 },
 "nbformat": 4,
 "nbformat_minor": 5
}
